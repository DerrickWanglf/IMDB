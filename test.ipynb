{
 "cells": [
  {
   "cell_type": "code",
   "execution_count": 2,
   "metadata": {},
   "outputs": [
    {
     "name": "stderr",
     "output_type": "stream",
     "text": [
      "/Users/mac/anaconda3/lib/python3.6/site-packages/h5py/__init__.py:36: FutureWarning: Conversion of the second argument of issubdtype from `float` to `np.floating` is deprecated. In future, it will be treated as `np.float64 == np.dtype(float).type`.\n",
      "  from ._conv import register_converters as _register_converters\n"
     ]
    }
   ],
   "source": [
    "import os\n",
    "os.environ[\"TF_CPP_MIN_LOG_LEVEL\"]=\"3\"\n",
    "import tensorflow as tf\n",
    "import numpy as np"
   ]
  },
  {
   "cell_type": "code",
   "execution_count": 3,
   "metadata": {},
   "outputs": [],
   "source": [
    "data = np.genfromtxt(\"document_vectors.txt\",delimiter=',')"
   ]
  },
  {
   "cell_type": "code",
   "execution_count": 7,
   "metadata": {},
   "outputs": [
    {
     "data": {
      "text/plain": [
       "(25000, 101)"
      ]
     },
     "execution_count": 7,
     "metadata": {},
     "output_type": "execute_result"
    }
   ],
   "source": [
    "data.shape"
   ]
  },
  {
   "cell_type": "code",
   "execution_count": 17,
   "metadata": {},
   "outputs": [
    {
     "data": {
      "text/plain": [
       "array([[-0.01742819,  0.1567259 ,  0.2664201 , ...,  0.14429282,\n",
       "         0.1856253 ,  0.        ],\n",
       "       [-0.08802676,  0.09549418,  0.16697527, ...,  0.18216637,\n",
       "         0.04723664,  0.        ],\n",
       "       [-0.0202323 ,  0.17025162,  0.16497454, ...,  0.38781148,\n",
       "        -0.00824412,  0.        ],\n",
       "       ...,\n",
       "       [ 0.05439023,  0.17868932,  0.3236356 , ...,  0.025218  ,\n",
       "         0.1955172 ,  1.        ],\n",
       "       [ 0.02812277,  0.2150609 ,  0.31037757, ...,  0.23973401,\n",
       "         0.02458111,  1.        ],\n",
       "       [ 0.03368053,  0.17885509,  0.2521111 , ...,  0.1785217 ,\n",
       "         0.16928579,  1.        ]])"
      ]
     },
     "execution_count": 17,
     "metadata": {},
     "output_type": "execute_result"
    }
   ],
   "source": [
    "data"
   ]
  },
  {
   "cell_type": "code",
   "execution_count": 8,
   "metadata": {},
   "outputs": [
    {
     "ename": "AttributeError",
     "evalue": "'numpy.ndarray' object has no attribute 'to_CSV'",
     "output_type": "error",
     "traceback": [
      "\u001b[0;31m---------------------------------------------------------------------------\u001b[0m",
      "\u001b[0;31mAttributeError\u001b[0m                            Traceback (most recent call last)",
      "\u001b[0;32m<ipython-input-8-b439615e4bf5>\u001b[0m in \u001b[0;36m<module>\u001b[0;34m()\u001b[0m\n\u001b[1;32m      1\u001b[0m \u001b[0;32mfrom\u001b[0m \u001b[0mpandas\u001b[0m \u001b[0;32mimport\u001b[0m \u001b[0mDataFrame\u001b[0m\u001b[0;34m\u001b[0m\u001b[0m\n\u001b[0;32m----> 2\u001b[0;31m \u001b[0mdata\u001b[0m\u001b[0;34m.\u001b[0m\u001b[0mto_CSV\u001b[0m\u001b[0;34m(\u001b[0m\u001b[0;34m\"df.csv\"\u001b[0m\u001b[0;34m,\u001b[0m\u001b[0mindex\u001b[0m\u001b[0;34m=\u001b[0m\u001b[0mfalse\u001b[0m\u001b[0;34m)\u001b[0m\u001b[0;34m\u001b[0m\u001b[0m\n\u001b[0m",
      "\u001b[0;31mAttributeError\u001b[0m: 'numpy.ndarray' object has no attribute 'to_CSV'"
     ]
    }
   ],
   "source": [
    "from pandas import DataFrame\n",
    "data.to_CSV(\"df.csv\",index=false)"
   ]
  },
  {
   "cell_type": "code",
   "execution_count": 11,
   "metadata": {},
   "outputs": [],
   "source": [
    "np.save(\"save.npy\",data)"
   ]
  },
  {
   "cell_type": "code",
   "execution_count": 15,
   "metadata": {},
   "outputs": [],
   "source": [
    "b =np.load(\"save.npy\")"
   ]
  },
  {
   "cell_type": "code",
   "execution_count": 16,
   "metadata": {},
   "outputs": [
    {
     "data": {
      "text/plain": [
       "array([[-0.01742819,  0.1567259 ,  0.2664201 , ...,  0.14429282,\n",
       "         0.1856253 ,  0.        ],\n",
       "       [-0.08802676,  0.09549418,  0.16697527, ...,  0.18216637,\n",
       "         0.04723664,  0.        ],\n",
       "       [-0.0202323 ,  0.17025162,  0.16497454, ...,  0.38781148,\n",
       "        -0.00824412,  0.        ],\n",
       "       ...,\n",
       "       [ 0.05439023,  0.17868932,  0.3236356 , ...,  0.025218  ,\n",
       "         0.1955172 ,  1.        ],\n",
       "       [ 0.02812277,  0.2150609 ,  0.31037757, ...,  0.23973401,\n",
       "         0.02458111,  1.        ],\n",
       "       [ 0.03368053,  0.17885509,  0.2521111 , ...,  0.1785217 ,\n",
       "         0.16928579,  1.        ]])"
      ]
     },
     "execution_count": 16,
     "metadata": {},
     "output_type": "execute_result"
    }
   ],
   "source": [
    "b"
   ]
  },
  {
   "cell_type": "code",
   "execution_count": null,
   "metadata": {},
   "outputs": [],
   "source": []
  }
 ],
 "metadata": {
  "kernelspec": {
   "display_name": "Python 3",
   "language": "python",
   "name": "python3"
  },
  "language_info": {
   "codemirror_mode": {
    "name": "ipython",
    "version": 3
   },
   "file_extension": ".py",
   "mimetype": "text/x-python",
   "name": "python",
   "nbconvert_exporter": "python",
   "pygments_lexer": "ipython3",
   "version": "3.6.5"
  }
 },
 "nbformat": 4,
 "nbformat_minor": 2
}
